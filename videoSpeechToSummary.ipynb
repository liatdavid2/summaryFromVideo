{
  "nbformat": 4,
  "nbformat_minor": 0,
  "metadata": {
    "colab": {
      "provenance": []
    },
    "kernelspec": {
      "name": "python3",
      "display_name": "Python 3"
    },
    "language_info": {
      "name": "python"
    },
    "accelerator": "GPU",
    "gpuClass": "standard"
  },
  "cells": [
    {
      "cell_type": "code",
      "execution_count": 1,
      "metadata": {
        "colab": {
          "base_uri": "https://localhost:8080/"
        },
        "id": "3XfKbH3jxVLN",
        "outputId": "6eb0dcae-ee0b-48ad-9813-9011896d6020"
      },
      "outputs": [
        {
          "output_type": "stream",
          "name": "stdout",
          "text": [
            "Looking in indexes: https://pypi.org/simple, https://us-python.pkg.dev/colab-wheels/public/simple/\n",
            "Requirement already satisfied: moviepy in /usr/local/lib/python3.9/dist-packages (1.0.3)\n",
            "Requirement already satisfied: tqdm<5.0,>=4.11.2 in /usr/local/lib/python3.9/dist-packages (from moviepy) (4.65.0)\n",
            "Requirement already satisfied: proglog<=1.0.0 in /usr/local/lib/python3.9/dist-packages (from moviepy) (0.1.10)\n",
            "Requirement already satisfied: imageio-ffmpeg>=0.2.0 in /usr/local/lib/python3.9/dist-packages (from moviepy) (0.4.8)\n",
            "Requirement already satisfied: numpy>=1.17.3 in /usr/local/lib/python3.9/dist-packages (from moviepy) (1.22.4)\n",
            "Requirement already satisfied: imageio<3.0,>=2.5 in /usr/local/lib/python3.9/dist-packages (from moviepy) (2.25.1)\n",
            "Requirement already satisfied: requests<3.0,>=2.8.1 in /usr/local/lib/python3.9/dist-packages (from moviepy) (2.27.1)\n",
            "Requirement already satisfied: decorator<5.0,>=4.0.2 in /usr/local/lib/python3.9/dist-packages (from moviepy) (4.4.2)\n",
            "Requirement already satisfied: pillow>=8.3.2 in /usr/local/lib/python3.9/dist-packages (from imageio<3.0,>=2.5->moviepy) (8.4.0)\n",
            "Requirement already satisfied: urllib3<1.27,>=1.21.1 in /usr/local/lib/python3.9/dist-packages (from requests<3.0,>=2.8.1->moviepy) (1.26.15)\n",
            "Requirement already satisfied: charset-normalizer~=2.0.0 in /usr/local/lib/python3.9/dist-packages (from requests<3.0,>=2.8.1->moviepy) (2.0.12)\n",
            "Requirement already satisfied: certifi>=2017.4.17 in /usr/local/lib/python3.9/dist-packages (from requests<3.0,>=2.8.1->moviepy) (2022.12.7)\n",
            "Requirement already satisfied: idna<4,>=2.5 in /usr/local/lib/python3.9/dist-packages (from requests<3.0,>=2.8.1->moviepy) (3.4)\n"
          ]
        }
      ],
      "source": [
        "!pip install moviepy"
      ]
    },
    {
      "cell_type": "code",
      "source": [
        "!sudo add-apt-repository ppa:mc3man/trusty-media  \n",
        "!sudo apt-get update  \n",
        "!sudo apt-get install ffmpeg  \n",
        "!sudo apt-get install frei0r-plugins"
      ],
      "metadata": {
        "colab": {
          "base_uri": "https://localhost:8080/"
        },
        "id": "euJ0X9AIxZws",
        "outputId": "39816465-f046-4025-8b66-66779b7b387a"
      },
      "execution_count": 3,
      "outputs": [
        {
          "output_type": "stream",
          "name": "stdout",
          "text": [
            " Upgraded, advanced or not normally available multimedia packages for Trusty\n",
            "Xenial users go here - https://launchpad.net/~mc3man/+archive/ubuntu/xerus-media\n",
            "\n",
            "*Please note that if using this ppa I would *not* try upgrading to 14.10/15.04, ect. Do a fresh install instead. The intent here is just for users wishing to stay on 14.04*\n",
            "\n",
            "If upgrading releases anyway use ppa-purge *First* -\n",
            "sudo ppa-purge  ppa:mc3man/trusty-media\n",
            "\n",
            "Also note that using this ppa then disabling may cause issue for installing i386 packages like used by wine. So once enabled leave enabled or purge before removing.\n",
            "\n",
            "Additionally if using apt-get * sudo  apt-get dist-upgrade will be needed* at times.(pay attention).  Otherwise package managers may be ok.\n",
            "\n",
            "So typically to enable & first use -\n",
            "sudo add-apt-repository ppa:mc3man/trusty-media\n",
            "sudo apt-get update\n",
            "sudo apt-get dist-upgrade\n",
            "\n",
            "A few notes:\n",
            "gstreamer0.10-ffmpeg - needed for some apps that still use gstreamer-0.10 & also provides h.264 in html5 decoding for firefox < 30.\n",
            "Note that Firefox 30 will support h.264 in html5 thru gstreamer1.0-libav & should be available soon\n",
            "\n",
            "A standalone ppa is here for gstreamer0.10-ffmpeg  -\n",
            "https://launchpad.net/~mc3man/+archive/ubuntu/gstffmpeg-keep\n",
            "\n",
            "Vlc: after upgrading please remove ~/.config/vlc folder to ensure proper runnning\n",
            "\n",
            "Totem - New - have added a --no-existing-session option to open a 2nd instance. Unity users can also find it in the totem quicklist\n",
            "\n",
            "Totem+grilo - it's quite possible this & RB+grilo will show in 14.04 by first point release, if so will probably remove. Also note some plugins work well, some don't at all, bit of a mess. Note that the youtube plugin is again broken, I'll not fix.\n",
            "\n",
            "rhythmbox+grilo - needs to be enabled in rhythmbox > tools > plugins\n",
            "Plus install grilo-plugins if not already\n",
            "\n",
            "mpv - has been removed as 14.04.4-lts requires higher libva than what's in 14.04 or in this ppa\n",
            "Available here with newer libva & i965 driver\n",
            "https://launchpad.net/~mc3man/+archive/mpv-tests\n",
            "\n",
            "mplayer - described here, note mencoder is not inc. & likely will not be, you may be able to use repo mencoder..\n",
            "https://launchpad.net/~mc3man/+archive/mplayer-test\n",
            "\n",
            "fdkaac (fdkaac-encoder) - described here\n",
            "https://launchpad.net/~mc3man/+archive/fdkaac-encoder\n",
            "\n",
            "x264 - for use with ffmpeg from here, supports both 8 & 10 bit encoding\n",
            "\n",
            "ffmpeg -\n",
            "a static build for use of the binaries, installed to /opt/ffmpeg\n",
            "binaries are symlinked in /usr/bin (ffmpeg, ffplay, ffprobe\n",
            "ffmpeg has nvenc enabled, ymmv depending on hardware/source files, ect.\n",
            "See for encoder names -\n",
            " ffmpeg -encoders 2>/dev/null | grep nvenc\n",
            "\n",
            "For info on using libfdk_aac see here -\n",
            "http://trac.ffmpeg.org/wiki/Encode/AAC\n",
            "\n",
            "Can be used for both 8 & 10 bit x264 encoding with this ppa's libx264, default is 8\n",
            "For 10 bit preload the 10 bit .so first in terminal, eg.,\n",
            "export LD_PRELOAD=/usr/lib/x86_64-linux-gnu/x264-10bit/libx264.so.142\n",
            "or\n",
            "export LD_PRELOAD=/usr/lib/i386-linux-gnu/x264-10bit/libx264.so.142\n",
            "\n",
            "libav - has fdkaac encoding enabled\n",
            "\n",
            "yasm -\n",
            " has been patched to improve compiling x265\n",
            "\n",
            "devede -\n",
            " can use either avconv or ffmpeg from here\n",
            " 1st choice for previewer is mplayer (version here is best\n",
            "\n",
            "K9copy -\n",
            "Mainly for ripping, as far as encoding there are better apps. If inclined to use for encoding then use mencoder as ffmpeg support is quite limited\n",
            "\n",
            "For rhythmbox users a wide range of plugins can be found here -\n",
            "https://launchpad.net/~fossfreedom/+archive/rhythmbox-plugins\n",
            "\n",
            "Abcde -\n",
            "ck. Suggested in synaptic for add. useful packages\n",
            "A guide to config is here -\n",
            "http://www.andrews-corner.org/abcde.html\n",
            "\n",
            "An excellent  audio recorder is available here -\n",
            "https://launchpad.net/~osmoma/+archive/audio-recorder\n",
            "\n",
            "A good blender ppa is here -\n",
            " https://launchpad.net/~irie/+archive/blender\n",
            "\n",
            "To further extend this ppa to libav11 check here -\n",
            "https://launchpad.net/~mc3man/+archive/ubuntu/testing6\n",
            "\n",
            "To repeat -\n",
            "*Please note that if using this ppa I would *not* try upgrading to 14.10/15.04, ect. Do a fresh install instead. The intent here is just for users wishing to stay on 14.04*\n",
            "If upgrading anyway use ppa-purge first -\n",
            "sudo ppa-purge  ppa:mc3man/trusty-media\n",
            "\n",
            "Also note that with apt-get a sudo apt-get dist-upgrade is needed for initial setup & with some package upgrades\n",
            " More info: https://launchpad.net/~mc3man/+archive/ubuntu/trusty-media\n",
            "Press [ENTER] to continue or Ctrl-c to cancel adding it.\n",
            "\n",
            "\n",
            "^C\n",
            "Get:1 https://cloud.r-project.org/bin/linux/ubuntu focal-cran40/ InRelease [3,622 B]\n",
            "Hit:2 https://developer.download.nvidia.com/compute/cuda/repos/ubuntu2004/x86_64  InRelease\n",
            "Hit:3 http://ppa.launchpad.net/c2d4u.team/c2d4u4.0+/ubuntu focal InRelease\n",
            "Hit:4 http://archive.ubuntu.com/ubuntu focal InRelease\n",
            "Get:5 http://archive.ubuntu.com/ubuntu focal-updates InRelease [114 kB]\n",
            "Get:6 http://security.ubuntu.com/ubuntu focal-security InRelease [114 kB]\n",
            "Hit:7 http://ppa.launchpad.net/cran/libgit2/ubuntu focal InRelease\n",
            "Get:8 http://archive.ubuntu.com/ubuntu focal-backports InRelease [108 kB]\n",
            "Get:9 http://ppa.launchpad.net/deadsnakes/ppa/ubuntu focal InRelease [18.1 kB]\n",
            "Get:10 http://archive.ubuntu.com/ubuntu focal-updates/universe amd64 Packages [1,314 kB]\n",
            "Get:11 http://security.ubuntu.com/ubuntu focal-security/universe amd64 Packages [1,019 kB]\n",
            "Get:12 http://archive.ubuntu.com/ubuntu focal-updates/main amd64 Packages [3,026 kB]\n",
            "Hit:13 http://ppa.launchpad.net/graphics-drivers/ppa/ubuntu focal InRelease\n",
            "Hit:14 http://ppa.launchpad.net/ubuntugis/ppa/ubuntu focal InRelease\n",
            "Get:15 http://security.ubuntu.com/ubuntu focal-security/main amd64 Packages [2,549 kB]\n",
            "Get:16 http://ppa.launchpad.net/deadsnakes/ppa/ubuntu focal/main amd64 Packages [29.5 kB]\n",
            "Get:17 http://security.ubuntu.com/ubuntu focal-security/restricted amd64 Packages [2,003 kB]\n",
            "Fetched 10.3 MB in 2s (4,258 kB/s)\n",
            "Reading package lists... Done\n",
            "Reading package lists... Done\n",
            "Building dependency tree       \n",
            "Reading state information... Done\n",
            "ffmpeg is already the newest version (7:4.2.7-0ubuntu0.1).\n",
            "0 upgraded, 0 newly installed, 0 to remove and 23 not upgraded.\n",
            "Reading package lists... Done\n",
            "Building dependency tree       \n",
            "Reading state information... Done\n",
            "The following additional packages will be installed:\n",
            "  libgavl1\n",
            "The following NEW packages will be installed:\n",
            "  frei0r-plugins libgavl1\n",
            "0 upgraded, 2 newly installed, 0 to remove and 23 not upgraded.\n",
            "Need to get 3,734 kB of archives.\n",
            "After this operation, 12.7 MB of additional disk space will be used.\n",
            "Get:1 http://archive.ubuntu.com/ubuntu focal/universe amd64 libgavl1 amd64 1.4.0-5 [3,363 kB]\n",
            "Get:2 http://archive.ubuntu.com/ubuntu focal/universe amd64 frei0r-plugins amd64 1.7.0-1build1 [371 kB]\n",
            "Fetched 3,734 kB in 1s (4,565 kB/s)\n",
            "debconf: unable to initialize frontend: Dialog\n",
            "debconf: (No usable dialog-like program is installed, so the dialog based frontend cannot be used. at /usr/share/perl5/Debconf/FrontEnd/Dialog.pm line 76, <> line 2.)\n",
            "debconf: falling back to frontend: Readline\n",
            "debconf: unable to initialize frontend: Readline\n",
            "debconf: (This frontend requires a controlling tty.)\n",
            "debconf: falling back to frontend: Teletype\n",
            "dpkg-preconfigure: unable to re-open stdin: \n",
            "Selecting previously unselected package libgavl1:amd64.\n",
            "(Reading database ... 128285 files and directories currently installed.)\n",
            "Preparing to unpack .../libgavl1_1.4.0-5_amd64.deb ...\n",
            "Unpacking libgavl1:amd64 (1.4.0-5) ...\n",
            "Selecting previously unselected package frei0r-plugins.\n",
            "Preparing to unpack .../frei0r-plugins_1.7.0-1build1_amd64.deb ...\n",
            "Unpacking frei0r-plugins (1.7.0-1build1) ...\n",
            "Setting up libgavl1:amd64 (1.4.0-5) ...\n",
            "Setting up frei0r-plugins (1.7.0-1build1) ...\n",
            "Processing triggers for libc-bin (2.31-0ubuntu9.9) ...\n"
          ]
        }
      ]
    },
    {
      "cell_type": "code",
      "source": [
        "# Python code to convert video to audio\n",
        "import moviepy.editor as mp\n",
        " \n",
        "# Insert Local Video File Path\n",
        "clip = mp.VideoFileClip(r\"/content/subtitles_trim.mp4\")\n",
        " \n",
        "# Insert Local Audio File Path\n",
        "clip.audio.write_audiofile(r\"/content/subtitles_trim_audio.wav\")"
      ],
      "metadata": {
        "colab": {
          "base_uri": "https://localhost:8080/"
        },
        "id": "EmGOBNNPxkRb",
        "outputId": "aced90ac-cfba-4503-c782-3a63c8d6344a"
      },
      "execution_count": 4,
      "outputs": [
        {
          "output_type": "stream",
          "name": "stdout",
          "text": [
            "MoviePy - Writing audio in /content/subtitles_trim_audio.wav\n"
          ]
        },
        {
          "output_type": "stream",
          "name": "stderr",
          "text": [
            "                                                                      "
          ]
        },
        {
          "output_type": "stream",
          "name": "stdout",
          "text": [
            "MoviePy - Done.\n"
          ]
        },
        {
          "output_type": "stream",
          "name": "stderr",
          "text": [
            "\r"
          ]
        }
      ]
    },
    {
      "cell_type": "code",
      "source": [
        "!pip3 install SpeechRecognition pydub"
      ],
      "metadata": {
        "colab": {
          "base_uri": "https://localhost:8080/"
        },
        "id": "9S6-g8091aua",
        "outputId": "9a51e795-9653-44cc-8214-b01c4b0a8d97"
      },
      "execution_count": 5,
      "outputs": [
        {
          "output_type": "stream",
          "name": "stdout",
          "text": [
            "Looking in indexes: https://pypi.org/simple, https://us-python.pkg.dev/colab-wheels/public/simple/\n",
            "Collecting SpeechRecognition\n",
            "  Downloading SpeechRecognition-3.10.0-py2.py3-none-any.whl (32.8 MB)\n",
            "\u001b[2K     \u001b[90m━━━━━━━━━━━━━━━━━━━━━━━━━━━━━━━━━━━━━━━━\u001b[0m \u001b[32m32.8/32.8 MB\u001b[0m \u001b[31m25.9 MB/s\u001b[0m eta \u001b[36m0:00:00\u001b[0m\n",
            "\u001b[?25hCollecting pydub\n",
            "  Downloading pydub-0.25.1-py2.py3-none-any.whl (32 kB)\n",
            "Requirement already satisfied: requests>=2.26.0 in /usr/local/lib/python3.9/dist-packages (from SpeechRecognition) (2.27.1)\n",
            "Requirement already satisfied: charset-normalizer~=2.0.0 in /usr/local/lib/python3.9/dist-packages (from requests>=2.26.0->SpeechRecognition) (2.0.12)\n",
            "Requirement already satisfied: idna<4,>=2.5 in /usr/local/lib/python3.9/dist-packages (from requests>=2.26.0->SpeechRecognition) (3.4)\n",
            "Requirement already satisfied: certifi>=2017.4.17 in /usr/local/lib/python3.9/dist-packages (from requests>=2.26.0->SpeechRecognition) (2022.12.7)\n",
            "Requirement already satisfied: urllib3<1.27,>=1.21.1 in /usr/local/lib/python3.9/dist-packages (from requests>=2.26.0->SpeechRecognition) (1.26.15)\n",
            "Installing collected packages: pydub, SpeechRecognition\n",
            "Successfully installed SpeechRecognition-3.10.0 pydub-0.25.1\n"
          ]
        }
      ]
    },
    {
      "cell_type": "code",
      "source": [
        "import speech_recognition as sr\n",
        "filename = \"/content/subtitles_trim_audio.wav\"\n",
        "# initialize the recognizer\n",
        "r = sr.Recognizer()"
      ],
      "metadata": {
        "id": "4dYb6vBd1w6A"
      },
      "execution_count": 6,
      "outputs": []
    },
    {
      "cell_type": "code",
      "source": [
        "# open the file\n",
        "with sr.AudioFile(filename) as source:\n",
        "    # listen for the data (load audio to memory)\n",
        "    audio_data = r.record(source)\n",
        "    # recognize (convert from speech to text)\n",
        "    text = r.recognize_google(audio_data)\n",
        "    print(text)"
      ],
      "metadata": {
        "colab": {
          "base_uri": "https://localhost:8080/"
        },
        "id": "I5GQrrra190Q",
        "outputId": "8ec4dd69-bbbe-4bee-ed27-d02f4c3fc771"
      },
      "execution_count": 7,
      "outputs": [
        {
          "output_type": "stream",
          "name": "stdout",
          "text": [
            "five or six years old I remember watching TV and I would see these commercials and I was watching other children suffer in other parts of the world and you know the commercials with it you know you could get 25 cents and save a child's life and you know and I would think to myself like I wonder how many 25 cents I could save up to save all the kids in Africa and I would say to myself you know like when I grow up and I can get rich and I'm going to save kids all over the world I just didn't know I will be in the position to do that by the time I was a teenager at 17 I started my career here in America and by the age of 18 I started my first charity organization I went on to team up with other organizations in the following years and met helped and even lost some of the most beautiful souls from 6-year-old yasmina Amina who passed away in 2010 from leukemia her story inspired thousands to volunteers donors through dkms fast forward to 2012 when my grandmother the Lake Bradford she lost her battle with cancer which is the very reason and the driving force behind the car right now Foundation we're all human and we all just want a chance a chance at life a chance at an education a chance at a future really and a clf our mission is to impact as many lives as possible but it starts with just one just one as I stare out into this beautiful room\n"
          ]
        }
      ]
    },
    {
      "cell_type": "code",
      "source": [
        "with open(\"audioText.txt\", \"w\") as f:\n",
        "  f.write(text)"
      ],
      "metadata": {
        "id": "n41N48tY2Noa"
      },
      "execution_count": 14,
      "outputs": []
    },
    {
      "cell_type": "code",
      "source": [
        "!pip install transformers"
      ],
      "metadata": {
        "colab": {
          "base_uri": "https://localhost:8080/"
        },
        "id": "7GtdwklN21KA",
        "outputId": "c84b1f47-64ea-496c-bfb1-64de11d4dc59"
      },
      "execution_count": 10,
      "outputs": [
        {
          "output_type": "stream",
          "name": "stdout",
          "text": [
            "Looking in indexes: https://pypi.org/simple, https://us-python.pkg.dev/colab-wheels/public/simple/\n",
            "Collecting transformers\n",
            "  Downloading transformers-4.27.3-py3-none-any.whl (6.8 MB)\n",
            "\u001b[2K     \u001b[90m━━━━━━━━━━━━━━━━━━━━━━━━━━━━━━━━━━━━━━━━\u001b[0m \u001b[32m6.8/6.8 MB\u001b[0m \u001b[31m61.1 MB/s\u001b[0m eta \u001b[36m0:00:00\u001b[0m\n",
            "\u001b[?25hRequirement already satisfied: filelock in /usr/local/lib/python3.9/dist-packages (from transformers) (3.10.1)\n",
            "Requirement already satisfied: pyyaml>=5.1 in /usr/local/lib/python3.9/dist-packages (from transformers) (6.0)\n",
            "Requirement already satisfied: numpy>=1.17 in /usr/local/lib/python3.9/dist-packages (from transformers) (1.22.4)\n",
            "Requirement already satisfied: tqdm>=4.27 in /usr/local/lib/python3.9/dist-packages (from transformers) (4.65.0)\n",
            "Collecting huggingface-hub<1.0,>=0.11.0\n",
            "  Downloading huggingface_hub-0.13.3-py3-none-any.whl (199 kB)\n",
            "\u001b[2K     \u001b[90m━━━━━━━━━━━━━━━━━━━━━━━━━━━━━━━━━━━━━━\u001b[0m \u001b[32m199.8/199.8 KB\u001b[0m \u001b[31m24.2 MB/s\u001b[0m eta \u001b[36m0:00:00\u001b[0m\n",
            "\u001b[?25hRequirement already satisfied: packaging>=20.0 in /usr/local/lib/python3.9/dist-packages (from transformers) (23.0)\n",
            "Collecting tokenizers!=0.11.3,<0.14,>=0.11.1\n",
            "  Downloading tokenizers-0.13.2-cp39-cp39-manylinux_2_17_x86_64.manylinux2014_x86_64.whl (7.6 MB)\n",
            "\u001b[2K     \u001b[90m━━━━━━━━━━━━━━━━━━━━━━━━━━━━━━━━━━━━━━━━\u001b[0m \u001b[32m7.6/7.6 MB\u001b[0m \u001b[31m73.0 MB/s\u001b[0m eta \u001b[36m0:00:00\u001b[0m\n",
            "\u001b[?25hRequirement already satisfied: requests in /usr/local/lib/python3.9/dist-packages (from transformers) (2.27.1)\n",
            "Requirement already satisfied: regex!=2019.12.17 in /usr/local/lib/python3.9/dist-packages (from transformers) (2022.10.31)\n",
            "Requirement already satisfied: typing-extensions>=3.7.4.3 in /usr/local/lib/python3.9/dist-packages (from huggingface-hub<1.0,>=0.11.0->transformers) (4.5.0)\n",
            "Requirement already satisfied: charset-normalizer~=2.0.0 in /usr/local/lib/python3.9/dist-packages (from requests->transformers) (2.0.12)\n",
            "Requirement already satisfied: idna<4,>=2.5 in /usr/local/lib/python3.9/dist-packages (from requests->transformers) (3.4)\n",
            "Requirement already satisfied: urllib3<1.27,>=1.21.1 in /usr/local/lib/python3.9/dist-packages (from requests->transformers) (1.26.15)\n",
            "Requirement already satisfied: certifi>=2017.4.17 in /usr/local/lib/python3.9/dist-packages (from requests->transformers) (2022.12.7)\n",
            "Installing collected packages: tokenizers, huggingface-hub, transformers\n",
            "Successfully installed huggingface-hub-0.13.3 tokenizers-0.13.2 transformers-4.27.3\n"
          ]
        }
      ]
    },
    {
      "cell_type": "code",
      "source": [
        "import transformers\n",
        "from transformers import pipeline"
      ],
      "metadata": {
        "id": "ix76G8yP2yGx"
      },
      "execution_count": 11,
      "outputs": []
    },
    {
      "cell_type": "code",
      "source": [
        "summarizer = pipeline(\"summarization\", model=\"sshleifer/distilbart-cnn-12-6\")\n",
        "print(summarizer(text))\n",
        "summery = summarizer(text)[0]['summary_text']"
      ],
      "metadata": {
        "colab": {
          "base_uri": "https://localhost:8080/"
        },
        "id": "b77uMdnn2kSB",
        "outputId": "3125f2b7-6dfc-4a49-ea19-0c60825f8661"
      },
      "execution_count": 15,
      "outputs": [
        {
          "output_type": "stream",
          "name": "stdout",
          "text": [
            "[{'summary_text': \" By the age of 18 I started my first charity organization . by the time I was a teenager at 17 . I would think to myself like I wonder how many 25 cents I could save up to save all the kids in Africa and I would say like when I grow up and I can get rich and I'm going to save kids all over the world I just didn't know I will be in the position to do that .\"}]\n"
          ]
        }
      ]
    },
    {
      "cell_type": "code",
      "source": [
        "print(summery)"
      ],
      "metadata": {
        "colab": {
          "base_uri": "https://localhost:8080/"
        },
        "id": "1gupZRSs3TEr",
        "outputId": "9bc921f9-e93b-409a-b161-cb26c4ab0c84"
      },
      "execution_count": 16,
      "outputs": [
        {
          "output_type": "stream",
          "name": "stdout",
          "text": [
            " By the age of 18 I started my first charity organization . by the time I was a teenager at 17 . I would think to myself like I wonder how many 25 cents I could save up to save all the kids in Africa and I would say like when I grow up and I can get rich and I'm going to save kids all over the world I just didn't know I will be in the position to do that .\n"
          ]
        }
      ]
    }
  ]
}